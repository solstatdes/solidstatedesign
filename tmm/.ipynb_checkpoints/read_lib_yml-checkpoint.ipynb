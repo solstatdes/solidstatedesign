{
 "cells": [
  {
   "cell_type": "code",
   "execution_count": 10,
   "metadata": {
    "collapsed": false
   },
   "outputs": [
    {
     "name": "stdout",
     "output_type": "stream",
     "text": [
      "Populating the interactive namespace from numpy and matplotlib\n"
     ]
    }
   ],
   "source": [
    "%pylab inline\n",
    "import db\n",
    "import os\n",
    "import json\n",
    "LIBRARY_PATH = '../static/refractiveindex/database/'"
   ]
  },
  {
   "cell_type": "code",
   "execution_count": 2,
   "metadata": {
    "collapsed": false
   },
   "outputs": [
    {
     "data": {
      "text/plain": [
       "'../static/refractiveindex/database/'"
      ]
     },
     "execution_count": 2,
     "metadata": {},
     "output_type": "execute_result"
    }
   ],
   "source": [
    "LIBRARY_PATH"
   ]
  },
  {
   "cell_type": "code",
   "execution_count": 3,
   "metadata": {
    "collapsed": false
   },
   "outputs": [],
   "source": [
    "tbnk = os.path.join(LIBRARY_PATH, 'main/Ag/Rakic.yml')\n",
    "tbn = os.path.join(LIBRARY_PATH, 'glass/barberini/D1214.yml')\n",
    "f1 = os.path.join(LIBRARY_PATH, 'main/GaAs/Skauli.yml')\n",
    "f2 = os.path.join(LIBRARY_PATH, 'main/SiC/Singh-o.yml')\n",
    "f2k = os.path.join(LIBRARY_PATH, 'glass/schott/N-BK7.yml')\n",
    "f2k2 = os.path.join(LIBRARY_PATH, 'glass/schott/obsolete/LITHOTEC-CAF2.yml')\n",
    "fk = os.path.join(LIBRARY_PATH, 'other/heat transfer fluids/Therminol VP-1/Otanicar.yml')\n",
    "f3 = os.path.join(LIBRARY_PATH, 'glass/cdgm/D-K9L.yml')\n",
    "f4 = os.path.join(LIBRARY_PATH, 'main/ZnS/Debenham.yml')\n",
    "f5k = os.path.join(LIBRARY_PATH, 'glass/misc/soda-lime/Rubin-lowiron.yml')\n",
    "\n",
    "test_list = {'tbnk' : tbnk,\n",
    "             'tbn'  : tbn,\n",
    "             'f1'   : f1,\n",
    "             'f2'   : f2,\n",
    "             'f2k'  : f2k,\n",
    "             'f2k2' : f2k2,\n",
    "             'fk'   : fk,\n",
    "             'f3'   : f3,\n",
    "             'f4'   : f4}\n",
    "             #'f5k' : f5k"
   ]
  },
  {
   "cell_type": "code",
   "execution_count": 4,
   "metadata": {
    "collapsed": false
   },
   "outputs": [],
   "source": [
    "#test all library types\n",
    "\n",
    "def data_test():\n",
    "\n",
    "    for item in test_list:\n",
    "        obj = db.L(test_list.get(item, None))\n",
    "        data = obj.grabData()\n",
    "        print item, data.keys()\n",
    "    \n",
    "    "
   ]
  },
  {
   "cell_type": "code",
   "execution_count": 5,
   "metadata": {
    "collapsed": false,
    "scrolled": true
   },
   "outputs": [
    {
     "name": "stdout",
     "output_type": "stream",
     "text": [
      "f1 ['x', 'n']\n",
      "f2 ['x', 'n']\n",
      "tbnk ['x', 'k', 'n']\n",
      "f4 ['x', 'n']\n",
      "tbn ['x', 'n']\n",
      "f2k ['x', 'k', 'n']\n",
      "f2k2 ['x', 'k', 'n']\n",
      "f3 ['x', 'n']\n",
      "fk ['x', 'k']\n"
     ]
    }
   ],
   "source": [
    "data_test()\n"
   ]
  },
  {
   "cell_type": "code",
   "execution_count": 59,
   "metadata": {
    "collapsed": false
   },
   "outputs": [],
   "source": [
    "def plot_n(test):\n",
    "    obj = db.L(test)\n",
    "    data = obj.grabData()\n",
    "    x = data.get('x')\n",
    "    n = data.get('n')\n",
    "    k = data.get('k', None)\n",
    "    \n",
    "    fig = figure()\n",
    "    ax1 = fig.add_subplot(111)\n",
    "    ax1.set_xlabel('micron')\n",
    "       \n",
    "    if n:\n",
    "          \n",
    "        ax1.plot(x, n, 'o-')\n",
    "        ax1.set_ylabel('n')\n",
    "        \n",
    "        if k:\n",
    "            ax2 = ax1.twinx()\n",
    "            ax2.plot(x, k, 'o-', color='red')\n",
    "            ax2.set_ylabel('k')\n",
    "    else:\n",
    "        if k:\n",
    "            ax1.plot(x, k, 'o-', color='red')\n",
    "            ax1.set_ylabel('k')\n",
    "   \n",
    "    \n",
    "    \n",
    "    "
   ]
  },
  {
   "cell_type": "code",
   "execution_count": 68,
   "metadata": {
    "collapsed": false
   },
   "outputs": [
    {
     "data": {
      "image/png": "[encoded data removed]",
      "text/plain": [
       "<matplotlib.figure.Figure at 0x7f1409abae50>"
      ]
     },
     "metadata": {},
     "output_type": "display_data"
    }
   ],
   "source": [
    "plot_n(f4)"
   ]
  },
  {
   "cell_type": "code",
   "execution_count": null,
   "metadata": {
    "collapsed": true
   },
   "outputs": [],
   "source": []
  },
  {
   "cell_type": "code",
   "execution_count": null,
   "metadata": {
    "collapsed": true
   },
   "outputs": [],
   "source": []
  }
 ],
 "metadata": {
  "kernelspec": {
   "display_name": "Python 2",
   "language": "python",
   "name": "python2"
  },
  "language_info": {
   "codemirror_mode": {
    "name": "ipython",
    "version": 2
   },
   "file_extension": ".py",
   "mimetype": "text/x-python",
   "name": "python",
   "nbconvert_exporter": "python",
   "pygments_lexer": "ipython2",
   "version": "2.7.6"
  }
 },
 "nbformat": 4,
 "nbformat_minor": 0
}
